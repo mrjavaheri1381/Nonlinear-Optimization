{
 "cells": [
  {
   "cell_type": "code",
   "execution_count": 22,
   "metadata": {},
   "outputs": [],
   "source": [
    "import matplotlib.pyplot as plt\n",
    "import numpy as np\n",
    "import random\n",
    "from numpy.linalg import inv"
   ]
  },
  {
   "attachments": {},
   "cell_type": "markdown",
   "metadata": {},
   "source": [
    "$$ C = \\{ z \\in \\mathbb{R}^{n-1} : -\\lambda \\leq z_i \\leq \\lambda, \\, i = 1,2,...,n-1 \\}\n",
    "$$"
   ]
  },
  {
   "cell_type": "code",
   "execution_count": 23,
   "metadata": {},
   "outputs": [],
   "source": [
    "def project(vector,l):\n",
    "    res = vector[:]\n",
    "    for i in range(len(vector)):\n",
    "        if(int(vector[i]) > l):\n",
    "            res[i]=l\n",
    "        elif(int(vector[i]) < -l):\n",
    "            res[i]=-l\n",
    "            \n",
    "    return res"
   ]
  },
  {
   "attachments": {},
   "cell_type": "markdown",
   "metadata": {},
   "source": [
    "$$\n",
    "L = \n",
    "\\begin{bmatrix}\n",
    "1 & -1 & 0 & 0 & ... & 0 &0\\\\\n",
    "0 & 1 & -1 & 0 & ... & 0 &0\\\\\n",
    "0 & 0 & 1 & -1 & ... & 0&0 \\\\\n",
    ". & . & . & . &    & . & .\\\\\n",
    ". & . & . & . &    & . & .\\\\\n",
    ". & . & . & . &    & . & .\\\\\n",
    "0 & 0 & 0& 0&... & 1& -1\n",
    "\n",
    "\\end{bmatrix}\n",
    "$$"
   ]
  },
  {
   "cell_type": "code",
   "execution_count": 24,
   "metadata": {},
   "outputs": [],
   "source": [
    "def getL(n):\n",
    "    L = [[0 for _ in range(n)] for _ in range(n-1)]\n",
    "    for i in range(n-1):\n",
    "        L[i][i] = 1\n",
    "        L[i][i+1] = -1\n",
    "    return np.matrix(L)"
   ]
  },
  {
   "attachments": {},
   "cell_type": "markdown",
   "metadata": {},
   "source": [
    "**The resulting regularized least squares problem**\n",
    "\n",
    " $$\\underset{x}{\\min} \\|x - b\\|^2 + \\lambda \\|Lx\\|^2 \\quad $$\n",
    " \n",
    " $$\\textbf{x}_{RLS}(\\lambda) = (I + \\lambda L^TL)^{-1}b$$\n",
    "\n"
   ]
  },
  {
   "cell_type": "code",
   "execution_count": 25,
   "metadata": {},
   "outputs": [
    {
     "data": {
      "image/png": "[encoded data removed]",
      "text/plain": [
       "<Figure size 432x288 with 1 Axes>"
      ]
     },
     "metadata": {
      "needs_background": "light"
     },
     "output_type": "display_data"
    }
   ],
   "source": [
    "x = np.arange(0,40,0.1)  \n",
    "p = [0,2,-1,1]\n",
    "y = [p[int(x[i]/10)] + random.uniform(-0.05,0.05) for i in range(len(x))]\n",
    "L = [[0 for _ in range(len(x))] for _ in range(len(x)-1)]\n",
    "for i in range(len(x)-1):\n",
    "    L[i][i] = 1\n",
    "    L[i][i+1] = -1\n",
    "L = np.matrix(L)\n",
    "y2 = inv(np.identity(len(x)) +  5*L.transpose()*L) * np.matrix(y).transpose()\n",
    "plt.scatter(x,y,s = 0.5)\n",
    "plt.scatter(x,[float(i) for i in y2 ],color=\"red\",s = 0.5)\n",
    "plt.show()\n"
   ]
  },
  {
   "attachments": {},
   "cell_type": "markdown",
   "metadata": {},
   "source": [
    "$$ \\mu_{k+1} = P_C(\\mu_k - (I - \\frac{1}{4}LL^T)\\mu_k + \\frac{1}{2} L y) $$\n"
   ]
  },
  {
   "cell_type": "code",
   "execution_count": 28,
   "metadata": {},
   "outputs": [],
   "source": [
    "def gradient_project_method(y , l):\n",
    "    res = np.matrix([random.uniform(-l,l) for _ in range(len(y)-1)]).transpose()\n",
    "    L = getL(len(y))\n",
    "    LL=L*L.transpose()\n",
    "    for _ in range(500):\n",
    "        res = project(res - (np.identity(len(LL)) *  0.25 * LL) * res + 0.5 * L * y , l)\n",
    "    return res\n"
   ]
  },
  {
   "attachments": {},
   "cell_type": "markdown",
   "metadata": {},
   "source": [
    "$$x^* = y - (L^T)^{-1} \\mu^*\n",
    " $$"
   ]
  },
  {
   "cell_type": "code",
   "execution_count": 29,
   "metadata": {},
   "outputs": [
    {
     "data": {
      "image/png": "[encoded data removed]",
      "text/plain": [
       "<Figure size 432x288 with 1 Axes>"
      ]
     },
     "metadata": {
      "needs_background": "light"
     },
     "output_type": "display_data"
    }
   ],
   "source": [
    "miu_star = gradient_project_method(np.matrix(y).transpose(),1)  \n",
    "\n",
    "x_star = np.matrix(y).transpose() - 0.5 * getL(len(y)).transpose() * miu_star\n",
    "s_star = [float(i) for i in x_star]\n",
    "plt.scatter(x,y,s = 0.7)\n",
    "plt.scatter(x,s_star,s = 0.7,color=\"red\")\n",
    "plt.show()"
   ]
  }
 ],
 "metadata": {
  "kernelspec": {
   "display_name": "Python 3",
   "language": "python",
   "name": "python3"
  },
  "language_info": {
   "codemirror_mode": {
    "name": "ipython",
    "version": 3
   },
   "file_extension": ".py",
   "mimetype": "text/x-python",
   "name": "python",
   "nbconvert_exporter": "python",
   "pygments_lexer": "ipython3",
   "version": "3.9.6"
  },
  "orig_nbformat": 4
 },
 "nbformat": 4,
 "nbformat_minor": 2
}
