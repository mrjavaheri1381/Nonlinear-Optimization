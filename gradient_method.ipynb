{
 "cells": [
  {
   "attachments": {},
   "cell_type": "markdown",
   "metadata": {},
   "source": [
    "# MohammadReza Javaheri\n",
    "# 610300038"
   ]
  },
  {
   "cell_type": "code",
   "execution_count": 1,
   "metadata": {},
   "outputs": [],
   "source": [
    "import numpy as np\n",
    "from numpy.linalg import norm\n",
    "import matplotlib.pyplot as plt"
   ]
  },
  {
   "attachments": {},
   "cell_type": "markdown",
   "metadata": {},
   "source": [
    "$$ \\underset{x,y}{\\min }\\quad  x^2 + \\frac{1}{k}y^2 $$"
   ]
  },
  {
   "cell_type": "code",
   "execution_count": 2,
   "metadata": {},
   "outputs": [],
   "source": [
    "def F(point,k):\n",
    "    A = np.matrix([[1,0],[0,k]])\n",
    "    return point.transpose() * A * point\n",
    "\n",
    "def Gradient(point , k):\n",
    "    A = np.matrix([ [1,0] ,[0,k]])\n",
    "    return 2 * A * point\n",
    "    "
   ]
  },
  {
   "attachments": {},
   "cell_type": "markdown",
   "metadata": {},
   "source": [
    "# Backtracking Line Search for Step Size Determination\n",
    "Given an objective function f(x) and a descent direction d, the backtracking line search method finds a suitable step size alpha.\n",
    "\n",
    "1. Initialize parameters: \n",
    "   - $ s > 0$ (initial step size)\n",
    "   - $ 0 < \\beta < 1 $(reduction factor)\n",
    "   - $ 0 < \\alpha < 1 $(sufficient decrease factor)\n",
    "\n",
    "2. Repeat until sufficient decrease condition:\n",
    "   - Compute $ f(x + s * d)$\n",
    "   - Check if $ f(x) - f(x - s * d) >= \\alpha * s * ∇f(x)^T * d $\n",
    "   - If condition holds, accept s\n",
    "   - If not, reduce alpha: alpha = s * \\beta\n",
    "\n",
    "3. Return the final accepted step size alpha.\n"
   ]
  },
  {
   "cell_type": "code",
   "execution_count": 3,
   "metadata": {},
   "outputs": [],
   "source": [
    "def Backtrack_search(point,k,alpha,beta,s):\n",
    "    return s if F(point,k) - F(point - s * Gradient(point,k) ,k) >= alpha * s * norm(Gradient(point,k))**2 else Backtrack_search(point,k,alpha,beta,s*beta)"
   ]
  },
  {
   "attachments": {},
   "cell_type": "markdown",
   "metadata": {},
   "source": [
    "$$ x_{i+1} = x_i - stepSize * ∇f(x_i) $$"
   ]
  },
  {
   "cell_type": "code",
   "execution_count": 4,
   "metadata": {},
   "outputs": [],
   "source": [
    "def gradient_method(k,e):\n",
    "    point= np.matrix([(10,10)]).transpose()\n",
    "    iteration=0\n",
    "    while norm(Gradient(point,k)) > e:\n",
    "        point = point - Backtrack_search(point , k , 0.5 , 0.5 , 1) * Gradient(point,k)\n",
    "        iteration+=1\n",
    "    return iteration"
   ]
  },
  {
   "cell_type": "code",
   "execution_count": 5,
   "metadata": {},
   "outputs": [
    {
     "data": {
      "text/plain": [
       "[<matplotlib.lines.Line2D at 0x7fa2a3828610>]"
      ]
     },
     "execution_count": 5,
     "metadata": {},
     "output_type": "execute_result"
    },
    {
     "data": {
      "image/png": "[encoded data removed]",
      "text/plain": [
       "<Figure size 432x288 with 1 Axes>"
      ]
     },
     "metadata": {
      "needs_background": "light"
     },
     "output_type": "display_data"
    }
   ],
   "source": [
    "x = [0.01/i for i in range(1,10)]\n",
    "y = [gradient_method(i,1e-5) for i in x]\n",
    "plt.plot(x,y)"
   ]
  }
 ],
 "metadata": {
  "kernelspec": {
   "display_name": "Python 3",
   "language": "python",
   "name": "python3"
  },
  "language_info": {
   "codemirror_mode": {
    "name": "ipython",
    "version": 3
   },
   "file_extension": ".py",
   "mimetype": "text/x-python",
   "name": "python",
   "nbconvert_exporter": "python",
   "pygments_lexer": "ipython3",
   "version": "3.9.6"
  },
  "orig_nbformat": 4
 },
 "nbformat": 4,
 "nbformat_minor": 2
}
