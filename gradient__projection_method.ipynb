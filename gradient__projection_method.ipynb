{
 "cells": [
  {
   "cell_type": "code",
   "execution_count": 43,
   "metadata": {},
   "outputs": [],
   "source": [
    "import numpy as np\n",
    "from numpy.linalg import norm"
   ]
  },
  {
   "cell_type": "code",
   "execution_count": 13,
   "metadata": {},
   "outputs": [],
   "source": [
    "def F(point,A,B):\n",
    "    return point.transpose() * A * point +  2 * B.transpose() * point\n",
    "\n",
    "def Gradient(point , A, B):\n",
    "    return 2 * A * point + 2*B"
   ]
  },
  {
   "attachments": {},
   "cell_type": "markdown",
   "metadata": {},
   "source": [
    "$$ proj_{box}(x) = [ \\max(l_i, \\min(x_i, u_i))]  \\quad \\forall i  $$\n"
   ]
  },
  {
   "cell_type": "code",
   "execution_count": 14,
   "metadata": {},
   "outputs": [],
   "source": [
    "def projection_to_box(constrains , point):\n",
    "    res = point[:]\n",
    "    for i in range(len(point)):\n",
    "        if(int(point[i]) < constrains[i][0]):\n",
    "            res[i] = constrains[i][0]\n",
    "        if(int(point[i]) > constrains[i][1]):\n",
    "            res[i] = constrains[i][1]\n",
    "    return res"
   ]
  },
  {
   "attachments": {},
   "cell_type": "markdown",
   "metadata": {},
   "source": [
    "$$proj_{ball}(x) = c + min(r, ||x - c||) * \\frac {(x - c)}{ ||x - c||}  $$"
   ]
  },
  {
   "cell_type": "code",
   "execution_count": 15,
   "metadata": {},
   "outputs": [],
   "source": [
    "def projection_to_ball(point, c, r):\n",
    "    return c + min( r, norm(point-c)) * (point-c)/norm(point-c) "
   ]
  },
  {
   "attachments": {},
   "cell_type": "markdown",
   "metadata": {},
   "source": [
    "$$ proj_{R_{++}}(x) = [max(x_i, 0)] \\quad  \\forall i $$"
   ]
  },
  {
   "cell_type": "code",
   "execution_count": 35,
   "metadata": {},
   "outputs": [],
   "source": [
    "def projection_to_positive(point):\n",
    "    for i in range(len(point)):\n",
    "        point[i] = max(point[i],0)\n",
    "    return point"
   ]
  },
  {
   "attachments": {},
   "cell_type": "markdown",
   "metadata": {},
   "source": [
    "# The Gradient Projection Method\n",
    "\n",
    "**Input:** ε > 0 - tolerance parameter.\n",
    "\n",
    "**Initialization:** Pick x₀ ∈ C arbitrarily.\n",
    "\n",
    "**General step:** For any k = 0, 1, 2, ... execute the following steps:\n",
    "- Pick a stepsize tₖ by a line search procedure.\n",
    "- Set xₖ₊₁ = PC(xₖ - tₖ∇f(xₖ)).\n",
    "- If ∥xₖ - xₖ₊₁∥ ≤ ε, then STOP, and xₖ₊₁ is the output.\n"
   ]
  },
  {
   "attachments": {},
   "cell_type": "markdown",
   "metadata": {},
   "source": [
    "$$ f(x,y,z) = x^2 + y^3 + z^4 + 2xy - 3xz -4x -2y $$"
   ]
  },
  {
   "cell_type": "code",
   "execution_count": 17,
   "metadata": {},
   "outputs": [],
   "source": [
    "A = np.matrix([[2,2,0],[0,3,0],[-3,0,4]])\n",
    "B = np.matrix([-4,-2,-1]).transpose()\n"
   ]
  },
  {
   "attachments": {},
   "cell_type": "markdown",
   "metadata": {},
   "source": [
    "$$ Box: [-5,15] * [-10,-3] * [-20,60] $$"
   ]
  },
  {
   "cell_type": "code",
   "execution_count": 18,
   "metadata": {},
   "outputs": [
    {
     "data": {
      "text/plain": [
       "matrix([[15.00005472]])"
      ]
     },
     "execution_count": 18,
     "metadata": {},
     "output_type": "execute_result"
    }
   ],
   "source": [
    "constrains = [(5,15),(-10,-3),[-20,60]]\n",
    "point = np.matrix([10,-2,30]).transpose()\n",
    "temp = np.matrix([5,-10,40]).transpose()\n",
    "while norm(point-temp)>1e-5:\n",
    "    temp = point\n",
    "    point = projection_to_box(constrains,point - Gradient(point,A,B) * 0.2)\n",
    "F(point,A,B)"
   ]
  },
  {
   "attachments": {},
   "cell_type": "markdown",
   "metadata": {},
   "source": [
    "$$Ball(c = (10,10,10) ,r = 5)$$"
   ]
  },
  {
   "cell_type": "code",
   "execution_count": 19,
   "metadata": {},
   "outputs": [
    {
     "data": {
      "text/plain": [
       "matrix([[332.92420722]])"
      ]
     },
     "execution_count": 19,
     "metadata": {},
     "output_type": "execute_result"
    }
   ],
   "source": [
    "r = 5\n",
    "c = np.matrix([10,10,10]).transpose()\n",
    "point = np.matrix([10,10,10]).transpose()\n",
    "temp = np.matrix([5,8,60]).transpose()\n",
    "while norm(point-temp)>1e-5:\n",
    "    temp = point\n",
    "    point = projection_to_ball(point - Gradient(point,A,B) * 0.2,c,r)\n",
    "F(point,A,B)"
   ]
  },
  {
   "attachments": {},
   "cell_type": "markdown",
   "metadata": {},
   "source": [
    "$$ \\R^3_+ $$"
   ]
  },
  {
   "cell_type": "code",
   "execution_count": 38,
   "metadata": {},
   "outputs": [
    {
     "data": {
      "text/plain": [
       "matrix([[-7.91665631]])"
      ]
     },
     "execution_count": 38,
     "metadata": {},
     "output_type": "execute_result"
    }
   ],
   "source": [
    "point = np.matrix([20,2,3]).transpose()\n",
    "temp = np.matrix([5,8,60]).transpose()\n",
    "while norm(point-temp)>1e-5:\n",
    "    temp = point\n",
    "    point = projection_to_positive(point - Gradient(point,A,B) * 0.2)\n",
    "F(point,A,B)\n"
   ]
  }
 ],
 "metadata": {
  "kernelspec": {
   "display_name": "Python 3",
   "language": "python",
   "name": "python3"
  },
  "language_info": {
   "codemirror_mode": {
    "name": "ipython",
    "version": 3
   },
   "file_extension": ".py",
   "mimetype": "text/x-python",
   "name": "python",
   "nbconvert_exporter": "python",
   "pygments_lexer": "ipython3",
   "version": "3.9.6"
  },
  "orig_nbformat": 4
 },
 "nbformat": 4,
 "nbformat_minor": 2
}
